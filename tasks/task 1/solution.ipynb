{
 "cells": [
  {
   "cell_type": "markdown",
   "metadata": {},
   "source": [
    "# Данные\n",
    "\n",
    "Прочитаем файл и посмотрим на тексты"
   ]
  },
  {
   "cell_type": "code",
   "execution_count": 203,
   "metadata": {},
   "outputs": [
    {
     "name": "stdout",
     "output_type": "stream",
     "text": [
      "/home/ffrankusha/study/university/nlp-course/tasks/task 1\n"
     ]
    }
   ],
   "source": [
    "!pwd"
   ]
  },
  {
   "cell_type": "code",
   "execution_count": 204,
   "metadata": {},
   "outputs": [
    {
     "name": "stdout",
     "output_type": "stream",
     "text": [
      "style\tRolex наградит победителей регаты\tПарусная гонка Giraglia Rolex Cup пройдет в Средиземном море в 64-й раз. Победители соревнования, проводимого с 1953 года Yacht Club Italiano, помимо других призов традиционно получают в подарок часы от швейцарского бренда Rolex. Об этом сообщается в пресс-релизе, поступившем в редакцию «Ленты.ру» в среду, 8 мая. Rolex Yacht-Master 40 Фото: пресс-служба Mercury Соревнования будут проходить с 10 по 18 июня. Первый этап: ночной переход из Сан-Ремо в Сен-Тропе 10-11 июня (дистанция 50 морских миль — около 90 километров). Второй этап: серия прибрежных гонок в бухте Сен-Тропе с 11 по 14 июня. Финальный этап пройдет с 15 по 18 июня: оффшорная гонка по маршруту Сен-Тропе — Генуя (243 морских мили — 450 километров). Маршрут проходит через скалистый остров Джиралья к северу от Корсики и завершается в Генуе.Регата, с 1997 года проходящая при поддержке Rolex, считается одной из самых значительных яхтенных гонок в Средиземноморье. В этом году в ней ожидается участие трех российских экипажей.\n",
      "\n"
     ]
    }
   ],
   "source": [
    "import gzip\n",
    "\n",
    "filepath = '../../data/news.txt.gz'\n",
    "\n",
    "with gzip.open(filepath, 'rt', encoding='utf-8') as f:\n",
    "    content = f.readline()\n",
    "    \n",
    "print(content)"
   ]
  },
  {
   "cell_type": "markdown",
   "metadata": {},
   "source": [
    "Данные имеют формат `<tag>  <title>  <content>`"
   ]
  },
  {
   "cell_type": "code",
   "execution_count": 205,
   "metadata": {},
   "outputs": [],
   "source": [
    "# import sys\n",
    "\n",
    "\n",
    "# print(len(content))\n",
    "\n",
    "# memory_size = sys.getsizeof(content)\n",
    "# # в МБ\n",
    "# memory_size / (1024 * 1024)"
   ]
  },
  {
   "cell_type": "code",
   "execution_count": 206,
   "metadata": {},
   "outputs": [
    {
     "data": {
      "text/html": [
       "<div>\n",
       "<style scoped>\n",
       "    .dataframe tbody tr th:only-of-type {\n",
       "        vertical-align: middle;\n",
       "    }\n",
       "\n",
       "    .dataframe tbody tr th {\n",
       "        vertical-align: top;\n",
       "    }\n",
       "\n",
       "    .dataframe thead th {\n",
       "        text-align: right;\n",
       "    }\n",
       "</style>\n",
       "<table border=\"1\" class=\"dataframe\">\n",
       "  <thead>\n",
       "    <tr style=\"text-align: right;\">\n",
       "      <th></th>\n",
       "      <th>tag</th>\n",
       "      <th>title</th>\n",
       "      <th>content</th>\n",
       "    </tr>\n",
       "  </thead>\n",
       "  <tbody>\n",
       "    <tr>\n",
       "      <th>0</th>\n",
       "      <td>style</td>\n",
       "      <td>Rolex наградит победителей регаты</td>\n",
       "      <td>Парусная гонка Giraglia Rolex Cup пройдет в Ср...</td>\n",
       "    </tr>\n",
       "    <tr>\n",
       "      <th>1</th>\n",
       "      <td>sport</td>\n",
       "      <td>Матс Сундин стал советником тренера сборной Шв...</td>\n",
       "      <td>Шведский хоккеист Матс Сундин назначен советни...</td>\n",
       "    </tr>\n",
       "    <tr>\n",
       "      <th>2</th>\n",
       "      <td>media</td>\n",
       "      <td>Брендом года по версии EFFIE впервые стал город</td>\n",
       "      <td>Гран-при конкурса \"Брэнд года/EFFIE\" получил г...</td>\n",
       "    </tr>\n",
       "  </tbody>\n",
       "</table>\n",
       "</div>"
      ],
      "text/plain": [
       "     tag                                              title  \\\n",
       "0  style                  Rolex наградит победителей регаты   \n",
       "1  sport  Матс Сундин стал советником тренера сборной Шв...   \n",
       "2  media    Брендом года по версии EFFIE впервые стал город   \n",
       "\n",
       "                                             content  \n",
       "0  Парусная гонка Giraglia Rolex Cup пройдет в Ср...  \n",
       "1  Шведский хоккеист Матс Сундин назначен советни...  \n",
       "2  Гран-при конкурса \"Брэнд года/EFFIE\" получил г...  "
      ]
     },
     "execution_count": 206,
     "metadata": {},
     "output_type": "execute_result"
    }
   ],
   "source": [
    "import pandas as pd\n",
    "\n",
    "data = pd.read_csv(filepath,\n",
    "                   sep='\\t',\n",
    "                   header=None)\n",
    "data.columns = ['tag', 'title', 'content']\n",
    "\n",
    "data.head(3)"
   ]
  },
  {
   "cell_type": "code",
   "execution_count": 207,
   "metadata": {},
   "outputs": [
    {
     "data": {
      "text/html": [
       "<div>\n",
       "<style scoped>\n",
       "    .dataframe tbody tr th:only-of-type {\n",
       "        vertical-align: middle;\n",
       "    }\n",
       "\n",
       "    .dataframe tbody tr th {\n",
       "        vertical-align: top;\n",
       "    }\n",
       "\n",
       "    .dataframe thead th {\n",
       "        text-align: right;\n",
       "    }\n",
       "</style>\n",
       "<table border=\"1\" class=\"dataframe\">\n",
       "  <thead>\n",
       "    <tr style=\"text-align: right;\">\n",
       "      <th></th>\n",
       "      <th>tag</th>\n",
       "      <th>title</th>\n",
       "      <th>content</th>\n",
       "    </tr>\n",
       "  </thead>\n",
       "  <tbody>\n",
       "    <tr>\n",
       "      <th>count</th>\n",
       "      <td>10000</td>\n",
       "      <td>10000</td>\n",
       "      <td>10000</td>\n",
       "    </tr>\n",
       "    <tr>\n",
       "      <th>unique</th>\n",
       "      <td>10</td>\n",
       "      <td>9995</td>\n",
       "      <td>10000</td>\n",
       "    </tr>\n",
       "    <tr>\n",
       "      <th>top</th>\n",
       "      <td>media</td>\n",
       "      <td>ЦБ отозвал лицензии у двух банков</td>\n",
       "      <td>Следователи назначили судебно-психиатрическую ...</td>\n",
       "    </tr>\n",
       "    <tr>\n",
       "      <th>freq</th>\n",
       "      <td>1476</td>\n",
       "      <td>3</td>\n",
       "      <td>1</td>\n",
       "    </tr>\n",
       "  </tbody>\n",
       "</table>\n",
       "</div>"
      ],
      "text/plain": [
       "          tag                              title  \\\n",
       "count   10000                              10000   \n",
       "unique     10                               9995   \n",
       "top     media  ЦБ отозвал лицензии у двух банков   \n",
       "freq     1476                                  3   \n",
       "\n",
       "                                                  content  \n",
       "count                                               10000  \n",
       "unique                                              10000  \n",
       "top     Следователи назначили судебно-психиатрическую ...  \n",
       "freq                                                    1  "
      ]
     },
     "execution_count": 207,
     "metadata": {},
     "output_type": "execute_result"
    }
   ],
   "source": [
    "data.describe()"
   ]
  },
  {
   "cell_type": "markdown",
   "metadata": {},
   "source": [
    "# Описание facts, rules\n",
    "\n",
    "Необходимо извлекать данные вида: \n",
    "* человек -> родился (родилось) в ... году\n",
    "* человек -> родился (родилось) в городе/стране ..."
   ]
  },
  {
   "cell_type": "code",
   "execution_count": 208,
   "metadata": {},
   "outputs": [],
   "source": [
    "from yargy import Parser, rule, and_, or_\n",
    "from yargy.predicates import gram, is_capitalized, dictionary, normalized, gte, lte, caseless\n",
    "from yargy.pipelines import morph_pipeline\n",
    "from yargy.interpretation import fact\n",
    "from yargy.relations import gnc_relation\n",
    "\n",
    "gnc = gnc_relation()"
   ]
  },
  {
   "cell_type": "markdown",
   "metadata": {},
   "source": [
    "### Facts"
   ]
  },
  {
   "cell_type": "code",
   "execution_count": 209,
   "metadata": {},
   "outputs": [],
   "source": [
    "# Целевой факт\n",
    "Entry = fact(\n",
    "    'Entry',\n",
    "    ['name', 'birth_date', 'birth_place']\n",
    ")\n",
    "\n",
    "# Человек (имя)\n",
    "Person = fact(\n",
    "    \"Person\",\n",
    "    [\"first_name\", \"last_name\"]\n",
    ")\n",
    "\n",
    "# Дата рождения\n",
    "BirthDate = fact(\n",
    "    'Date',\n",
    "    ['year', 'month', 'day']\n",
    ")\n",
    "\n",
    "# Место рождения\n",
    "BirthPlace = fact(\n",
    "    'Place',\n",
    "    ['name']\n",
    ")"
   ]
  },
  {
   "cell_type": "markdown",
   "metadata": {},
   "source": [
    "### Правила для извлечения имени"
   ]
  },
  {
   "cell_type": "code",
   "execution_count": 210,
   "metadata": {},
   "outputs": [],
   "source": [
    "# NAME = rule(\n",
    "#     is_capitalized().match(gnc).interpretation(Person.first_name.inflected()).optional(),\n",
    "#     is_capitalized().match(gnc).interpretation(Person.last_name.inflected()),\n",
    "# ).interpretation(\n",
    "#     Entry.name\n",
    "# )\n",
    "\n",
    "# более строгое\n",
    "NAME_FIRST_LAST = rule(\n",
    "    gram(\"Name\").match(gnc).interpretation(Person.first_name.inflected()),\n",
    "    gram(\"Surn\").optional().match(gnc).interpretation(Person.last_name.inflected())\n",
    ")\n",
    "\n",
    "NAME_LAST_FIRST = rule(\n",
    "    gram(\"Surn\").optional().match(gnc).interpretation(Person.last_name.inflected()),\n",
    "    gram(\"Name\").match(gnc).interpretation(Person.first_name.inflected())\n",
    ")\n",
    "\n",
    "# видимо придется добавить\n",
    "NAME_COMMON = rule(\n",
    "    is_capitalized().match(gnc).interpretation(Person.last_name.inflected()).optional(),\n",
    "    gram(\"Name\").match(gnc).interpretation(Person.first_name.inflected()),\n",
    ")\n",
    "NAME_COMMON_REVERSE = rule(\n",
    "    gram(\"Name\").match(gnc).interpretation(Person.first_name.inflected()),\n",
    "    is_capitalized().match(gnc).interpretation(Person.last_name.inflected()).optional()\n",
    ")\n",
    "\n",
    "\n",
    "NAME = or_(\n",
    "    NAME_FIRST_LAST,\n",
    "    NAME_LAST_FIRST,\n",
    "    NAME_COMMON,\n",
    "    NAME_COMMON_REVERSE\n",
    ").interpretation(\n",
    "    Person\n",
    ")"
   ]
  },
  {
   "cell_type": "code",
   "execution_count": 211,
   "metadata": {},
   "outputs": [
    {
     "name": "stdout",
     "output_type": "stream",
     "text": [
      "['Иван']\n",
      "Person(first_name='иван', last_name=None)\n",
      "['Игорь', 'Владимиров']\n",
      "Person(first_name='игорь', last_name='владимиров')\n",
      "['Иванов', 'Петя']\n",
      "Person(first_name='петя', last_name='иванов')\n"
     ]
    }
   ],
   "source": [
    "# проверка\n",
    "parser_name = Parser(NAME)\n",
    "\n",
    "text = \"Иван играл в футбол. Игорь Владимиров пришел домой. Иванов Петя родился в 2001 году.\"\n",
    "\n",
    "for match in parser_name.findall(text):\n",
    "    print([_.value for _ in match.tokens])\n",
    "    print(match.fact)"
   ]
  },
  {
   "cell_type": "markdown",
   "metadata": {},
   "source": [
    "### Правила для извлечения даты рождения"
   ]
  },
  {
   "cell_type": "code",
   "execution_count": 212,
   "metadata": {},
   "outputs": [],
   "source": [
    "# месяц может быть задан в словесном и числовом виде\n",
    "months_names = {\n",
    "    'январь': 1,\n",
    "    'февраль': 2,\n",
    "    'март': 3,\n",
    "    'апрель': 4,\n",
    "    'май': 5,\n",
    "    'июнь': 6,\n",
    "    'июль': 7,\n",
    "    'август': 8,\n",
    "    'сентябрь': 9,\n",
    "    'октябрь': 10,\n",
    "    'ноябрь': 11,\n",
    "    'декабрь': 12\n",
    "}\n",
    "\n",
    "MONTH_NAME = dictionary(\n",
    "    months_names\n",
    ").interpretation(\n",
    "    BirthDate.month.normalized().custom(months_names.get)\n",
    ")\n",
    "\n",
    "MONTH_NUMBER = and_(\n",
    "    gte(1),\n",
    "    lte(12)\n",
    ").interpretation(\n",
    "    BirthDate.month.custom(int)\n",
    ")\n",
    "\n",
    "# объединение правил\n",
    "MONTH = or_(\n",
    "    MONTH_NAME,\n",
    "    MONTH_NUMBER\n",
    ")\n",
    "\n",
    "# правило для дня\n",
    "DAY = and_(\n",
    "    gte(1),\n",
    "    lte(31)\n",
    ").interpretation(\n",
    "    BirthDate.day.custom(int)\n",
    ")\n",
    "\n",
    "# правило для года\n",
    "YEAR = rule(\n",
    "    and_(\n",
    "        gte(1000),\n",
    "        lte(2025)\n",
    "    ).interpretation(\n",
    "    BirthDate.year.custom(int)\n",
    "    ),\n",
    "    normalized(\"год\").optional(),\n",
    "    rule(caseless(\"г\"), \".\").optional()\n",
    ")\n",
    "\n",
    "DATE_YEAR = rule(\n",
    "    DAY.optional(),\n",
    "    dictionary({'.', '-', '/'}).optional(),\n",
    "    MONTH.optional(),\n",
    "    dictionary({'.', '-', '/'}).optional(),\n",
    "    YEAR\n",
    ")\n",
    "DATE_DAY_MONTH = rule(\n",
    "    DAY,\n",
    "    dictionary({'.', '-', '/'}).optional(),\n",
    "    MONTH,\n",
    "    YEAR.optional()\n",
    ")\n",
    "DATE = or_(\n",
    "        DATE_DAY_MONTH,\n",
    "        DATE_YEAR  \n",
    ")\n",
    "\n",
    "BIRTH_DATE = rule(\n",
    "    dictionary({\"в\"}).optional(),\n",
    "    gram('ADJF').repeatable().optional(), # на случай прилагательных\n",
    "    DATE\n",
    ").interpretation(\n",
    "        BirthDate\n",
    ")"
   ]
  },
  {
   "cell_type": "code",
   "execution_count": 213,
   "metadata": {},
   "outputs": [
    {
     "name": "stdout",
     "output_type": "stream",
     "text": [
      "['в', '10', '-', '05', '-', '1980']\n",
      "Date(year=1980, month=5, day=10)\n",
      "['20', '/', '04', '/', '1990']\n",
      "Date(year=1990, month=4, day=20)\n",
      "['в', '2001', 'году']\n",
      "Date(year=2001, month=None, day=None)\n",
      "['21', 'октября']\n",
      "Date(year=None, month=10, day=21)\n",
      "['в', '2000', 'г', '.']\n",
      "Date(year=2000, month=None, day=None)\n"
     ]
    }
   ],
   "source": [
    "# проверка\n",
    "parser_birth_date = Parser(BIRTH_DATE)\n",
    "\n",
    "text = \"Иван родился в 10-05-1980. У Игоря день рождения 20/04/1990. Петя родился в 2001 году. У Яны день рождения 21 октября. Родился в 2000 г.\"\n",
    "\n",
    "for match in parser_birth_date.findall(text):\n",
    "    print([_.value for _ in match.tokens])\n",
    "    print(match.fact)"
   ]
  },
  {
   "cell_type": "markdown",
   "metadata": {},
   "source": [
    "### Правила для извлечения места рождения"
   ]
  },
  {
   "cell_type": "code",
   "execution_count": 214,
   "metadata": {},
   "outputs": [],
   "source": [
    "BIRTH_PLACE = rule(\n",
    "    dictionary({'в', 'из', 'на'}), \n",
    "    gram('ADJF').optional().repeatable(),  # прилагательное для города\n",
    "    dictionary({'город', 'страна', 'место', 'республика', 'край', 'село', 'деревня', 'округ', 'область', 'район'}).optional(),\n",
    "    and_(is_capitalized(),\n",
    "         gram('NOUN')).interpretation(BirthPlace.name.inflected())           # город\n",
    ").interpretation(BirthPlace)"
   ]
  },
  {
   "cell_type": "code",
   "execution_count": 215,
   "metadata": {},
   "outputs": [
    {
     "name": "stdout",
     "output_type": "stream",
     "text": [
      "['в', 'прекрасном', 'городе', 'Кострома']\n",
      "Place(name='кострома')\n",
      "['из', 'города', 'Самара']\n",
      "Place(name='самара')\n",
      "['в', 'прекрасной', 'стране', 'Россия']\n",
      "Place(name='россия')\n"
     ]
    }
   ],
   "source": [
    "# проверка\n",
    "parser_birth_place = Parser(BIRTH_PLACE)\n",
    "\n",
    "text = \"Иван родился в прекрасном городе Кострома. Игорь родом из города Самара. Петр родился в прекрасной стране Россия\"\n",
    "\n",
    "for match in parser_birth_place.findall(text):\n",
    "    print([_.value for _ in match.tokens])\n",
    "    print(match.fact)"
   ]
  },
  {
   "cell_type": "markdown",
   "metadata": {},
   "source": [
    "### Финальное правило"
   ]
  },
  {
   "cell_type": "code",
   "execution_count": 216,
   "metadata": {},
   "outputs": [],
   "source": [
    "MAIN_VERB = dictionary({'родился', 'родом', 'рождение'})\n",
    "\n",
    "ENTRY = or_(\n",
    "            rule(NAME.interpretation(Entry.name),\n",
    "                 MAIN_VERB, \n",
    "                 BIRTH_DATE.interpretation(Entry.birth_date),\n",
    "                 MAIN_VERB.optional(), \n",
    "                 BIRTH_PLACE.interpretation(Entry.birth_place)),\n",
    "            rule(NAME.interpretation(Entry.name),\n",
    "                 MAIN_VERB, \n",
    "                 BIRTH_PLACE.interpretation(Entry.birth_place), \n",
    "                 MAIN_VERB.optional(), \n",
    "                 BIRTH_DATE.interpretation(Entry.birth_date)),\n",
    "            rule(MAIN_VERB, \n",
    "                 BIRTH_DATE.interpretation(Entry.birth_date), \n",
    "                 NAME.interpretation(Entry.name), \n",
    "                 MAIN_VERB.optional(), \n",
    "                 BIRTH_PLACE.interpretation(Entry.birth_place)),\n",
    "            rule(MAIN_VERB, \n",
    "                 BIRTH_PLACE.interpretation(Entry.birth_place), \n",
    "                 NAME.interpretation(Entry.name), \n",
    "                 MAIN_VERB.optional(), \n",
    "                 BIRTH_DATE.interpretation(Entry.birth_date)),\n",
    "            rule(MAIN_VERB, \n",
    "                 BIRTH_PLACE.interpretation(Entry.birth_place), \n",
    "                 BIRTH_DATE.interpretation(Entry.birth_date), \n",
    "                 NAME.interpretation(Entry.name)),\n",
    "            rule(MAIN_VERB, \n",
    "                 BIRTH_DATE.interpretation(Entry.birth_date), \n",
    "                 BIRTH_PLACE.interpretation(Entry.birth_place), \n",
    "                 NAME.interpretation(Entry.name))\n",
    "    ).interpretation(\n",
    "        Entry\n",
    "    )\n",
    "\n",
    "parser = Parser(ENTRY)"
   ]
  },
  {
   "cell_type": "code",
   "execution_count": 217,
   "metadata": {},
   "outputs": [
    {
     "name": "stdout",
     "output_type": "stream",
     "text": [
      "Entry(name=Person(first_name='иван', last_name='валентинов'), birth_date=Date(year=2001, month=9, day=21), birth_place=Place(name='кострома'))\n",
      "Entry(name=Person(first_name='петя', last_name='петрович'), birth_date=Date(year=2006, month=10, day=10), birth_place=Place(name='россия'))\n",
      "Entry(name=Person(first_name='максим', last_name=None), birth_date=Date(year=1700, month=10, day=19), birth_place=Place(name='казань'))\n",
      "Entry(name=Person(first_name='петя', last_name='шумный'), birth_date=Date(year=2000, month=None, day=None), birth_place=Place(name='подмосковье'))\n"
     ]
    }
   ],
   "source": [
    "# проверка\n",
    "text = \"Иван Валентинов родился 21 сентября 2001 года в Костроме. \\\n",
    "        Петя Петрович родился в России 10-10-2006. \\\n",
    "        Максим родился 19/10/1700 в городе Казань \\\n",
    "        Родившись в 2000 году в Подмосковье Петя Шумный ...\"\n",
    "\n",
    "for match in parser.findall(text):\n",
    "    print(match.fact)"
   ]
  },
  {
   "cell_type": "markdown",
   "metadata": {},
   "source": [
    "# Применение"
   ]
  },
  {
   "cell_type": "code",
   "execution_count": 218,
   "metadata": {},
   "outputs": [],
   "source": [
    "import gzip\n",
    "\n",
    "from dataclasses import dataclass\n",
    "from typing import Iterator\n",
    "\n",
    "@dataclass\n",
    "class Text:\n",
    "    label: str\n",
    "    title: str\n",
    "    text: str\n",
    "\n",
    "\n",
    "def read_texts(fn: str) -> Iterator[Text]:\n",
    "    with gzip.open(fn, \"rt\", encoding=\"utf-8\") as f:\n",
    "        for line in f:\n",
    "            yield Text(*line.strip().split(\"\\t\"))\n",
    "\n",
    "filepath = '../../data/news.txt.gz'\n",
    "\n",
    "texts = list(read_texts(filepath))"
   ]
  },
  {
   "cell_type": "code",
   "execution_count": null,
   "metadata": {},
   "outputs": [
    {
     "name": "stdout",
     "output_type": "stream",
     "text": [
      "Entry(name=Person(first_name='бетси', last_name='палмера'), birth_date=Date(year=1926, month=None, day=None), birth_place=Place(name='сша'))\n",
      "Entry(name=Person(first_name='трэмиел', last_name=None), birth_date=Date(year=1928, month=None, day=None), birth_place=Place(name='польша'))\n",
      "Entry(name=Person(first_name='дмитрий', last_name='чернявский'), birth_date=Date(year=1992, month=3, day=5), birth_place=Place(name='артёмовск'))\n",
      "Entry(name=Person(first_name='яковлевюрий', last_name='яковлев'), birth_date=Date(year=1928, month=None, day=None), birth_place=Place(name='москва'))\n"
     ]
    },
    {
     "name": "stderr",
     "output_type": "stream",
     "text": [
      "Exception ignored in: <bound method IPythonKernel._clean_thread_parent_frames of <ipykernel.ipkernel.IPythonKernel object at 0x7f5c5410f580>>\n",
      "Traceback (most recent call last):\n",
      "  File \"/home/ffrankusha/study/university/nlp-course/venv/lib/python3.10/site-packages/ipykernel/ipkernel.py\", line 775, in _clean_thread_parent_frames\n",
      "    def _clean_thread_parent_frames(\n",
      "KeyboardInterrupt: \n"
     ]
    }
   ],
   "source": [
    "from tqdm import tqdm \n",
    "\n",
    "for text in tqdm(texts, disable=True):\n",
    "    try:\n",
    "        for match in parser.findall(text.text):\n",
    "         print(match.fact)\n",
    "    except:\n",
    "       # empty\n",
    "       pass"
   ]
  },
  {
   "cell_type": "markdown",
   "metadata": {},
   "source": [
    "# Дополнение\n",
    "\n",
    "В natasha есть [готовые функции](https://habr.com/ru/articles/349864/#:~:text=%D0%BF%D0%BE%D0%BC%D0%BE%D1%89%D1%8C%D1%8E%20Yargy%2D%D0%BF%D0%B0%D1%80%D1%81%D0%B5%D1%80%D0%B0.-,%D0%93%D0%BE%D1%82%D0%BE%D0%B2%D1%8B%D0%B5%20%D0%BF%D1%80%D0%B0%D0%B2%D0%B8%D0%BB%D0%B0,-%D0%A1%D0%B5%D0%B9%D1%87%D0%B0%D1%81%20%D0%B2%20Natasha) для извлечения популярных паттернов"
   ]
  },
  {
   "cell_type": "code",
   "execution_count": null,
   "metadata": {},
   "outputs": [],
   "source": [
    "from natasha import (\n",
    "    NamesExtractor,\n",
    "    AddressExtractor,\n",
    "    DatesExtractor,\n",
    ")\n",
    "\n",
    "extractors = [\n",
    "    NamesExtractor(),\n",
    "    AddressExtractor(),\n",
    "    DatesExtractor(),\n",
    "]"
   ]
  },
  {
   "cell_type": "markdown",
   "metadata": {},
   "source": [
    "Возможно, их использование упростило бы задачу 😃"
   ]
  }
 ],
 "metadata": {
  "kernelspec": {
   "display_name": "venv",
   "language": "python",
   "name": "python3"
  },
  "language_info": {
   "codemirror_mode": {
    "name": "ipython",
    "version": 3
   },
   "file_extension": ".py",
   "mimetype": "text/x-python",
   "name": "python",
   "nbconvert_exporter": "python",
   "pygments_lexer": "ipython3",
   "version": "3.10.12"
  }
 },
 "nbformat": 4,
 "nbformat_minor": 2
}
